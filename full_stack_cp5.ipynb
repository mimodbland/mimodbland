{
 "cells": [
  {
   "cell_type": "markdown",
   "id": "8c823ac3-1f4c-4661-a42f-dff32a64f8c7",
   "metadata": {},
   "source": [
    "# Examén CheckPoint 5 - Módulo 3\n",
    "\n",
    "Buenos días Daniel, felicidades por haber llegado al CheckPoint 5, este será un poco distinto a los anteriores, vas a poder utilizar documentación e información que busques por la web, porque el objetivo es que tú tienes que crear una documentación sobre las preguntas que te enviaré a continuación, por lo tanto, tienes que prepararlas para las personas que están iniciando en el mundo del desarrollo y estas puedan comprender y aprender con tu material, por favor intenta ser lo más detallado posible, colocar ejemplos, para que se utiliza, sintaxis, como se utiliza, etc...\n",
    "\n",
    "Recuerda que eres el responsable de crear la documentación que utilizarán los nuevos compañeros de tu equipo de programación.\n",
    "\n",
    "También toma en cuenta en hacerlo con las herramientas o software correcto, para la creación de este tipo de material y subirlo a Git-Hub para revisarlo, seremos exigentes con el contenido del mismo así que da lo mejor de ti en esta entrega!\n",
    "\n",
    "¿Qué es un condicional?\n",
    "\n",
    "¿Cuáles son los diferentes tipos de bucles en Python? ¿Por qué son útiles?\n",
    "\n",
    "¿Qué es una lista por comprensión en Python?\n",
    "\n",
    "¿Qué es un argumento en Python?\n",
    "\n",
    "¿Qué es una función Lambda en Python?\n",
    "\n",
    "¿Qué es un paquete pip?\n",
    "\n",
    "Adicional a esta asignación de crear una documentación, necesito que realices los siguientes ejercicios prácticos, recuerda subirlos a Git-Hub o Replit para revisarlos\n",
    "\n",
    "Cree un bucle For de Python.\n",
    "\n",
    "Cree una función de Python llamada suma que tome 3 argumentos y devuelva la suma de los 3.\n",
    "\n",
    "Cree una función lambda con la misma funcionalidad que la función de suma que acaba de crear.\n",
    "\n",
    "-Utilizando la siguiente lista y variable, determine si el valor de la variable coincide o no con un valor de la lista. *Sugerencia, si es necesario, utilice un bucle for in y el operador in.\n",
    "\n",
    "nombre = 'Enrique'\n",
    "\n",
    "lista_nombre = 'Jessica', 'Paul', 'George', 'Henry', 'Adán'\n",
    "\n",
    "Esta es toda la asignación, ¡mucha suerte!"
   ]
  },
  {
   "cell_type": "code",
   "execution_count": null,
   "id": "11aad3ef-e081-413e-b177-73345c5d964a",
   "metadata": {},
   "outputs": [],
   "source": []
  }
 ],
 "metadata": {
  "kernelspec": {
   "display_name": "Python 3 (ipykernel)",
   "language": "python",
   "name": "python3"
  },
  "language_info": {
   "codemirror_mode": {
    "name": "ipython",
    "version": 3
   },
   "file_extension": ".py",
   "mimetype": "text/x-python",
   "name": "python",
   "nbconvert_exporter": "python",
   "pygments_lexer": "ipython3",
   "version": "3.11.5"
  },
  "widgets": {
   "application/vnd.jupyter.widget-state+json": {
    "state": {},
    "version_major": 2,
    "version_minor": 0
   }
  }
 },
 "nbformat": 4,
 "nbformat_minor": 5
}
